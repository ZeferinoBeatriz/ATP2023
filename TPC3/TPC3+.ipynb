{
 "cells": [
  {
   "cell_type": "markdown",
   "metadata": {},
   "source": [
    "## TPC3: Adivinha o número!?\n",
    "\n",
    "Desenvolve em Python o código necessário para o jogo do Adivinha o número: \n",
    "* O jogo deverá ter dois modos: o computador tenta acertar no número que o jogador pensou ou, o jogador tenta acertar no número que o computador pensou; \n",
    "* No fim, o programa deverá indicar quantas tentativas foram realizadas para chegar ao resultado;\n",
    "* O Jogo: \n",
    "    - o utilizador pensa num número entre 0 e 100;\n",
    "    - o computador tenta adivinhar indicando um número do intervalo;\n",
    "    - o utilizador indica se o número em que pensou é **maior**, **menor**, ou se o computador **acertou**;\n",
    "    - ao terminar, o programa imprime o número de tentativas que o computador teve de fazer até chegar ao número.\n",
    "\n",
    "Que conclusão podes tirar sobre o número de tentativas necessárias para um número entre 0 e 100? E se fosse entre 0 e 1000?"
   ]
  },
  {
   "cell_type": "code",
   "execution_count": 2,
   "metadata": {},
   "outputs": [
    {
     "name": "stdout",
     "output_type": "stream",
     "text": [
      "Bem-vindo ao jogo adivinhe o número! \n",
      "Se quiser ser você a adivinhar o número digite: adivinhar, caso queira pensar num número para que seja eu a adivinhar digite: pensar.\n",
      "Pense num número de 0 a 100. \n",
      "Eu acho que o número em que pensou é  50 \n",
      "Acertei?\n",
      "Eu acho que o número em que pensou é  75 \n",
      "Acertei?\n",
      "Eu acho que o número em que pensou é  62 \n",
      "Acertei?\n",
      "Eu acho que o número em que pensou é  68 \n",
      "Acertei?\n",
      "Eu acho que o número em que pensou é  71 \n",
      "Acertei?\n",
      "Eu acho que o número em que pensou é  73 \n",
      "Acertei?\n",
      "Eu acho que o número em que pensou é  74 \n",
      "Acertei?\n",
      "Acertei! Consegui em  7  tentativa(s)\n"
     ]
    }
   ],
   "source": [
    "#TPC3:Adivinha o número!?\n",
    "import random\n",
    "print(\"Bem-vindo ao jogo adivinhe o número! \\nSe quiser ser você a adivinhar o número digite: adivinhar, caso queira pensar num número para que seja eu a adivinhar digite: pensar.\")\n",
    "modo=input(\"adivinhar ou pensar?\" )\n",
    "tentativas=0\n",
    "numero=0\n",
    "max=100\n",
    "min=0\n",
    "palpite=0\n",
    "palpite=int(palpite)\n",
    "if(modo==\"adivinhar\"):\n",
    "    print (\"Vamos começar no modo adivinhar!\")\n",
    "    numero=random.randrange(0, 101)\n",
    "    print (\"Digite o número que acha que o computador escolheu entre 0 e 100\")\n",
    "    palpite=int(input(\"Qual o seu primeiro palpite? (0 a 100): \"))\n",
    "    while (palpite!=numero):\n",
    "        tentativas=tentativas+1\n",
    "        if (palpite==numero):\n",
    "            print(\"Acertou!\")\n",
    "        else:\n",
    "            if (numero<palpite):\n",
    "                print(\"É menor.Tente novamente.\")\n",
    "                palpite=int(input(\"Qual o seu palpite?: \"))\n",
    "            else:\n",
    "                print(\"É maior.Tente novamente\")\n",
    "                palpite=int(input(\"Qual o seu palpite?: \"))\n",
    "    print(\"Parabéns, conseguiu! Adivinhou em \", tentativas, \" tentativa(s).\")\n",
    "else:\n",
    "    palpite=(max+min)/2\n",
    "    palpite=int(palpite)\n",
    "    print(\"Pense num número de 0 a 100. \\nEu acho que o número em que pensou é \", palpite, \"\\nAcertei?\")\n",
    "    tent=input(\"Se o palpite estiver certo digite: sim . Se pensou num número maior digite: maior, caso contrário digite: menor\")\n",
    "    while(tent!=\"sim\"):\n",
    "        if (tent==\"maior\"):\n",
    "            tentativas=tentativas+1\n",
    "            min=palpite\n",
    "            palpite=(max+min)/2\n",
    "            palpite=int(palpite)\n",
    "            print(\"Eu acho que o número em que pensou é \", palpite, \"\\nAcertei?\")\n",
    "            tent=input(\"Se o palpite estiver certo digite: sim . Se pensou num número maior digite: maior, caso contrário digite: menor\")\n",
    "        if (tent==\"menor\"):\n",
    "            tentativas=tentativas+1\n",
    "            max=palpite\n",
    "            palpite=(max+min)/2\n",
    "            palpite=int(palpite)\n",
    "            print(\"Eu acho que o número em que pensou é \", palpite, \"\\nAcertei?\")\n",
    "            tent=input(\"Se o palpite estiver certo digite: sim . Se pensou num número maior digite: maior, caso contrário digite: menor\")\n",
    "    tentativas=tentativas+1\n",
    "    print(\"Acertei! Consegui em \", tentativas, \" tentativa(s)\")"
   ]
  }
 ],
 "metadata": {
  "kernelspec": {
   "display_name": "Python 3",
   "language": "python",
   "name": "python3"
  },
  "language_info": {
   "codemirror_mode": {
    "name": "ipython",
    "version": 3
   },
   "file_extension": ".py",
   "mimetype": "text/x-python",
   "name": "python",
   "nbconvert_exporter": "python",
   "pygments_lexer": "ipython3",
   "version": "3.11.5"
  },
  "orig_nbformat": 4
 },
 "nbformat": 4,
 "nbformat_minor": 2
}
